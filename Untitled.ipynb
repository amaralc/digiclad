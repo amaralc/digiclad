{
 "cells": [
  {
   "cell_type": "markdown",
   "metadata": {},
   "source": [
    "# Measure clad height from image"
   ]
  },
  {
   "cell_type": "code",
   "execution_count": 12,
   "metadata": {},
   "outputs": [],
   "source": []
  },
  {
   "cell_type": "code",
   "execution_count": 14,
   "metadata": {},
   "outputs": [],
   "source": [
    "# Reading an animated GIF file using Python Image Processing Library - Pillow"
   ]
  },
  {
   "cell_type": "code",
   "execution_count": 22,
   "metadata": {},
   "outputs": [
    {
     "name": "stdout",
     "output_type": "stream",
     "text": [
      "True\n",
      "56\n"
     ]
    }
   ],
   "source": [
    "from PIL import Image\n",
    "from PIL import GifImagePlugin\n",
    "\n",
    "im = Image.open(\"./gif/digiclad_gif.gif\")\n",
    "\n",
    "print(imageObject.is_animated)\n",
    "print(imageObject.n_frames)\n",
    "\n",
    "# Display individual frames from the loaded animated GIF file\n",
    "\n",
    "for frame in range(0,imageObject.n_frames):\n",
    "    im.seek(frame)\n",
    "    im.save(\"./img/digiclad_gif_frame\"+ str(frame) +\".png\")"
   ]
  },
  {
   "cell_type": "code",
   "execution_count": 21,
   "metadata": {},
   "outputs": [
    {
     "name": "stdout",
     "output_type": "stream",
     "text": [
      "0\n"
     ]
    }
   ],
   "source": [
    "print(frame)"
   ]
  },
  {
   "cell_type": "code",
   "execution_count": null,
   "metadata": {},
   "outputs": [],
   "source": []
  }
 ],
 "metadata": {
  "kernelspec": {
   "display_name": "Python 3",
   "language": "python",
   "name": "python3"
  },
  "language_info": {
   "codemirror_mode": {
    "name": "ipython",
    "version": 3
   },
   "file_extension": ".py",
   "mimetype": "text/x-python",
   "name": "python",
   "nbconvert_exporter": "python",
   "pygments_lexer": "ipython3",
   "version": "3.6.9"
  }
 },
 "nbformat": 4,
 "nbformat_minor": 2
}
