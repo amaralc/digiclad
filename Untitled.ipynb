{
 "cells": [
  {
   "cell_type": "code",
   "execution_count": 11,
   "metadata": {},
   "outputs": [],
   "source": [
    "# Initial setup\n",
    "\n",
    "%reload_ext autoreload\n",
    "%autoreload 2\n",
    "%matplotlib inline\n",
    "\n",
    "# Import libraries\n",
    "\n",
    "import cv2\n",
    "import matplotlib\n",
    "import numpy as np\n",
    "from matplotlib import pyplot as plt\n",
    "from ipywidgets import interact, interactive, interact_manual\n",
    "import math\n",
    "import statistics"
   ]
  },
  {
   "cell_type": "code",
   "execution_count": 147,
   "metadata": {},
   "outputs": [
    {
     "data": {
      "application/vnd.jupyter.widget-view+json": {
       "model_id": "56a066cccbd14966a4552b1d8987c369",
       "version_major": 2,
       "version_minor": 0
      },
      "text/plain": [
       "interactive(children=(IntSlider(value=27, description='index', max=55), IntSlider(value=127, description='thre…"
      ]
     },
     "metadata": {},
     "output_type": "display_data"
    }
   ],
   "source": [
    "# Define caminho da imagem\n",
    "FILEPATH = \"img/frames_1_renamed/png/\"\n",
    "\n",
    "# \n",
    "def analyseImageWithPreview(index, thresh, k_row, k_column):\n",
    "\n",
    "    global orig, red, th, dst, kernel, dst_open, dst_close, img_height, img_width\n",
    "    \n",
    "    # Define label\n",
    "    LABEL = \"frame_(%.1d).png\" %index\n",
    "    \n",
    "    # Define nome do arquivo\n",
    "    FILENAME = FILEPATH + LABEL\n",
    "    \n",
    "    # Carregar a imagem na cor BGR (Padrão Opencv)\n",
    "    orig = cv2.imread(FILENAME, cv2.IMREAD_COLOR)\n",
    "    \n",
    "    # Cropa imagem pela metade\n",
    "    h = orig.shape[0]\n",
    "    orig = orig[0:int(h/2),:,:]\n",
    "\n",
    "    # Converter para RGB\n",
    "    orig = cv2.cvtColor(orig, cv2.COLOR_BGR2RGB)\n",
    "    \n",
    "    # Define apenas parte vermelha como array de trabalho\n",
    "    red = orig[:,:,0]\n",
    "    \n",
    "    # Define dimensoes da imagem resultante\n",
    "    img_height, img_width = red.shape\n",
    "    \n",
    "    # Filtra imagem utilizando filtro binario (cria dst)\n",
    "    th, dst = cv2.threshold(red, thresh, 255, cv2.THRESH_BINARY)\n",
    "    \n",
    "    # Refina imagem \n",
    "    kernel = np.ones((k_row, k_column), np.uint8)    \n",
    "    dst_open = cv2.morphologyEx(dst, cv2.MORPH_OPEN, kernel)\n",
    "    \n",
    "    # Calcula perfil médio da imagem refinada\n",
    "    avg_profile = averageProfileExtractor(dst_open)\n",
    "    \n",
    "    # Salva coordenadas da primeira região em branco [column, rowAvg]\n",
    "    firstPixel = np.array(firstNonNan(avg_profile))\n",
    "    \n",
    "    # Salva coordenadas da última região em branco [column, rowAvg]\n",
    "    lastPixel = np.array(lastNonNan(avg_profile))\n",
    "    \n",
    "    # Calcula cateto do triângulo formado entre os dois pontos e a horizontal\n",
    "    cathetus  = lastPixel - firstPixel\n",
    "    \n",
    "    # Calcula ângulo de inclinação\n",
    "    ang = math.atan(cathetus[1]/cathetus[0])*180/np.pi   \n",
    "    \n",
    "    # Cria imagem usando função rotate_image\n",
    "    rotated_image = rotate_image(dst_open, ang)\n",
    "    \n",
    "    # Cria perfil médio depois de rotacionar imagem\n",
    "    avg_profile_rotated = averageProfileExtractor(rotated_image)\n",
    "    \n",
    "    # Define linha horizontal\n",
    "    bead_bottom = np.nanmin(avg_profile_rotated)\n",
    "    \n",
    "    # Define altura maxima\n",
    "    bead_top = np.nanmax(avg_profile_rotated)\n",
    "    \n",
    "    # Define altura do maior cordao\n",
    "    max_bead_height_pixels = bead_top - bead_bottom\n",
    "    print(max_bead_height_pixels)\n",
    "    \n",
    "    # Plotar imagens\n",
    "    fig, axes = plt.subplots(3,2, figsize=(8, 4), sharex=True, sharey=True)\n",
    "    ax = axes.ravel()\n",
    "    ax[0].imshow(orig)\n",
    "    ax[1].imshow(red, 'gray')\n",
    "    ax[2].imshow(dst, 'gray')\n",
    "    ax[3].imshow(dst_open, 'gray')\n",
    "    ax[4].plot(avg_profile)\n",
    "    ax[5].plot(avg_profile_rotated)\n",
    "    \n",
    "def averageProfileExtractor(img):\n",
    "    \n",
    "    global height, width, avg_profile\n",
    "    \n",
    "    # Define dimensoes da imagem de entrada\n",
    "    height, width = img.shape\n",
    "    \n",
    "    # Cria array de perfil médio  \n",
    "    avg_profile = np.array([])\n",
    "    \n",
    "    # Loop varrendo cada coluna da imagem de entrada\n",
    "    for column in range(0, width):\n",
    "        \n",
    "        # Array com valor das linhas que contém pixel branco\n",
    "        column_avg = np.array([])\n",
    "        \n",
    "        # Loop em uma coluna adicionando valor da linha de pixels brancos\n",
    "        for row in range(0, height):\n",
    "            if img[row,column] > 0:             \n",
    "                column_avg = np.append(column_avg, row)  \n",
    "        \n",
    "        # Adiciona média das linhas ao vetor avg_profile \n",
    "        avg_profile = np.append(avg_profile,np.mean(column_avg))     \n",
    "    \n",
    "    # Retorna array com perfil médio \n",
    "    return avg_profile\n",
    "\n",
    "## Gira imagem baseado em pixels das bordas\n",
    "\n",
    "### Função para retornar primeiro item não NaN\n",
    "def firstNonNan(listfloats):\n",
    "    for item in range(0,len(listfloats)):\n",
    "        if math.isnan(listfloats[item]) == False:\n",
    "            return [item,listfloats[item]]\n",
    "\n",
    "### Função para retornar último item não NaN\n",
    "def lastNonNan(listfloats):\n",
    "    for item in reversed(range(0,len(listfloats))):\n",
    "        if math.isnan(listfloats[item]) == False:\n",
    "            return [item,listfloats[item]]\n",
    "\n",
    "### Função para girar imagem        \n",
    "def rotate_image(mat, angle):\n",
    "    # angle in degrees\n",
    "\n",
    "    height, width = mat.shape[:2]\n",
    "    image_center = (width/2, height/2)\n",
    "\n",
    "    rotation_mat = cv2.getRotationMatrix2D(image_center, angle, 1.)\n",
    "\n",
    "    abs_cos = abs(rotation_mat[0,0])\n",
    "    abs_sin = abs(rotation_mat[0,1])\n",
    "\n",
    "    bound_w = int(height * abs_sin + width * abs_cos)\n",
    "    bound_h = int(height * abs_cos + width * abs_sin)\n",
    "\n",
    "    rotation_mat[0, 2] += bound_w/2 - image_center[0]\n",
    "    rotation_mat[1, 2] += bound_h/2 - image_center[1]\n",
    "\n",
    "    rotated_mat = cv2.warpAffine(mat, rotation_mat, (bound_w, bound_h))\n",
    "    return rotated_mat\n",
    "    \n",
    "# Selecionar imagem apartir da escolha do usuário\n",
    "interactive(analyseImageWithPreview, index=(0,55), thresh=(0,255), k_row=(1,10), k_column=(1,10))"
   ]
  },
  {
   "cell_type": "code",
   "execution_count": 159,
   "metadata": {},
   "outputs": [
    {
     "data": {
      "text/plain": [
       "[<matplotlib.lines.Line2D at 0x2456229d5f8>]"
      ]
     },
     "execution_count": 159,
     "metadata": {},
     "output_type": "execute_result"
    },
    {
     "data": {
      "image/png": "[encoded data removed]",
      "text/plain": [
       "<Figure size 432x288 with 1 Axes>"
      ]
     },
     "metadata": {
      "needs_background": "light"
     },
     "output_type": "display_data"
    }
   ],
   "source": [
    "def analyseImageWithoutPreview(index, thresh, k_row, k_column):\n",
    "\n",
    "    global orig, red, th, dst, kernel, dst_open, dst_close, img_height, img_width\n",
    "    \n",
    "    # Define label\n",
    "    LABEL = \"frame_(%.1d).png\" %index\n",
    "    \n",
    "    # Define nome do arquivo\n",
    "    FILENAME = FILEPATH + LABEL\n",
    "    \n",
    "    # Carregar a imagem na cor BGR (Padrão Opencv)\n",
    "    orig = cv2.imread(FILENAME, cv2.IMREAD_COLOR)\n",
    "    \n",
    "    # Cropa imagem pela metade\n",
    "    h = orig.shape[0]\n",
    "    orig = orig[0:int(h/2),:,:]\n",
    "\n",
    "    # Converter para RGB\n",
    "    orig = cv2.cvtColor(orig, cv2.COLOR_BGR2RGB)\n",
    "    \n",
    "    # Define apenas parte vermelha como array de trabalho\n",
    "    red = orig[:,:,0]\n",
    "    \n",
    "    # Define dimensoes da imagem resultante\n",
    "    img_height, img_width = red.shape\n",
    "    \n",
    "    # Filtra imagem utilizando filtro binario (cria dst)\n",
    "    th, dst = cv2.threshold(red, thresh, 255, cv2.THRESH_BINARY)\n",
    "    \n",
    "    # Refina imagem \n",
    "    kernel = np.ones((k_row, k_column), np.uint8)    \n",
    "    dst_open = cv2.morphologyEx(dst, cv2.MORPH_OPEN, kernel)\n",
    "    \n",
    "    # Calcula perfil médio da imagem refinada\n",
    "    avg_profile = averageProfileExtractor(dst_open)\n",
    "    \n",
    "    # Salva coordenadas da primeira região em branco [column, rowAvg]\n",
    "    firstPixel = np.array(firstNonNan(avg_profile))\n",
    "    \n",
    "    # Salva coordenadas da última região em branco [column, rowAvg]\n",
    "    lastPixel = np.array(lastNonNan(avg_profile))\n",
    "    \n",
    "    # Calcula cateto do triângulo formado entre os dois pontos e a horizontal\n",
    "    cathetus  = lastPixel - firstPixel\n",
    "    \n",
    "    # Calcula ângulo de inclinação\n",
    "    ang = math.atan(cathetus[1]/cathetus[0])*180/np.pi   \n",
    "    \n",
    "    # Cria imagem usando função rotate_image\n",
    "    rotated_image = rotate_image(dst_open, ang)\n",
    "    \n",
    "    # Cria perfil médio depois de rotacionar imagem\n",
    "    avg_profile_rotated = averageProfileExtractor(rotated_image)\n",
    "    \n",
    "    # Define linha horizontal\n",
    "    bead_bottom = np.nanmin(avg_profile_rotated)\n",
    "    \n",
    "    # Define altura maxima\n",
    "    bead_top = np.nanmax(avg_profile_rotated)\n",
    "    \n",
    "    # Define altura do maior cordao\n",
    "    max_bead_height_pixels = bead_top - bead_bottom\n",
    "    \n",
    "    return max_bead_height_pixels\n",
    "\n",
    "\n",
    "clad_profile = np.array([])\n",
    "for i in range(0, 56):\n",
    "    x = analyseImageWithoutPreview(i, 100, 3, 7)\n",
    "    clad_profile = np.append(clad_profile, x)\n",
    "\n",
    "plt.plot(clad_profile)\n",
    "\n"
   ]
  },
  {
   "cell_type": "code",
   "execution_count": 160,
   "metadata": {},
   "outputs": [
    {
     "data": {
      "text/plain": [
       "[<matplotlib.lines.Line2D at 0x245623d8278>]"
      ]
     },
     "execution_count": 160,
     "metadata": {},
     "output_type": "execute_result"
    },
    {
     "data": {
      "image/png": "[encoded data removed]",
      "text/plain": [
       "<Figure size 432x288 with 1 Axes>"
      ]
     },
     "metadata": {
      "needs_background": "light"
     },
     "output_type": "display_data"
    }
   ],
   "source": [
    "plt.plot(clad_profile,'o')"
   ]
  }
 ],
 "metadata": {
  "kernelspec": {
   "display_name": "Python 3",
   "language": "python",
   "name": "python3"
  },
  "language_info": {
   "codemirror_mode": {
    "name": "ipython",
    "version": 3
   },
   "file_extension": ".py",
   "mimetype": "text/x-python",
   "name": "python",
   "nbconvert_exporter": "python",
   "pygments_lexer": "ipython3",
   "version": "3.6.9"
  }
 },
 "nbformat": 4,
 "nbformat_minor": 2
}
