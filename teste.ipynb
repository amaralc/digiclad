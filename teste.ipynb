{
 "cells": [
  {
   "cell_type": "markdown",
   "metadata": {},
   "source": [
    "# Digiclad"
   ]
  },
  {
   "cell_type": "markdown",
   "metadata": {},
   "source": [
    "## Importando Bibliotecas"
   ]
  },
  {
   "cell_type": "code",
   "execution_count": 49,
   "metadata": {},
   "outputs": [],
   "source": [
    "import cv2\n",
    "import matplotlib\n",
    "import numpy as np\n",
    "from matplotlib import pyplot as plt\n",
    "from ipywidgets import interact, interactive, interact_manual"
   ]
  },
  {
   "cell_type": "markdown",
   "metadata": {},
   "source": [
    "## Explorando dados"
   ]
  },
  {
   "cell_type": "code",
   "execution_count": 63,
   "metadata": {},
   "outputs": [
    {
     "data": {
      "application/vnd.jupyter.widget-view+json": {
       "model_id": "34d0858b0be540b2990d62f116786327",
       "version_major": 2,
       "version_minor": 0
      },
      "text/plain": [
       "interactive(children=(Dropdown(description='label', options=('frame_00_delay-0.2s.png', 'frame_01_delay-0.2s.p…"
      ]
     },
     "metadata": {},
     "output_type": "display_data"
    }
   ],
   "source": [
    "# Conjunto de imagens {nome da imagem: (Original, Escala de cinza) }\n",
    "images = {}\n",
    "ORIG = 0\n",
    "GRAY = 1\n",
    "\n",
    "# Imagem utilizada como referência\n",
    "img = None\n",
    "\n",
    "# Caminho dos dados\n",
    "FILEPATH = \"img/frames/png/\"\n",
    "\n",
    "# Carregar imagens \n",
    "for x in range(0,21):\n",
    " \n",
    "    # Nome da imagem\n",
    "    label = \"frame_%.2d_delay-0.2s.png\" %x\n",
    "\n",
    "    # Caminho do imagem\n",
    "    path = FILEPATH + label\n",
    "\n",
    "    # Carregar a imagem na cor BGR (Padrão Opencv)\n",
    "    orig = cv2.imread(path, cv2.IMREAD_COLOR)\n",
    "\n",
    "    # Converter para RGB\n",
    "    orig = cv2.cvtColor(orig, cv2.COLOR_BGR2RGB)\n",
    "\n",
    "    # Carregar imagem em escala de cinza\n",
    "    gray = orig[:,:,0]\n",
    "\n",
    "    # Salvando imagens no dicionario\n",
    "    images[label] = (orig, gray)\n",
    "\n",
    "# Visualizando imagem selecionada\n",
    "def view_image(label):\n",
    "    \n",
    "    # Referênciando variavel global\n",
    "    global images, img\n",
    "\n",
    "    # Definindo imagem de referência\n",
    "    img = images[label]\n",
    "    \n",
    "    # Recuperando imagem \n",
    "    orig, gray = img\n",
    "    \n",
    "    # Plotar imagens\n",
    "    fig, axes = plt.subplots(1, 2, figsize=(16, 12), sharex=True, sharey=True)\n",
    "    ax = axes.ravel()\n",
    "    ax[0].imshow(orig)\n",
    "    ax[1].imshow(gray, 'gray')\n",
    "\n",
    "# Selecionar imagem apartir da escolha do usuário\n",
    "interactive(view_image, label=images.keys())\n",
    "    "
   ]
  },
  {
   "cell_type": "markdown",
   "metadata": {},
   "source": [
    "## Filtro Binario"
   ]
  },
  {
   "cell_type": "code",
   "execution_count": 64,
   "metadata": {},
   "outputs": [
    {
     "data": {
      "application/vnd.jupyter.widget-view+json": {
       "model_id": "6451584ee07e47a79fea7d5a8709b49c",
       "version_major": 2,
       "version_minor": 0
      },
      "text/plain": [
       "interactive(children=(Dropdown(description='label', options=('frame_00_delay-0.2s.png', 'frame_01_delay-0.2s.p…"
      ]
     },
     "metadata": {},
     "output_type": "display_data"
    }
   ],
   "source": [
    "modes = ['cv2.THRESH_BINARY',\n",
    "         'cv2.THRESH_BINARY_INV',\n",
    "         'cv2.THRESH_TRUNC',\n",
    "         'cv2.THRESH_TOZERO',\n",
    "         'cv2.THRESH_TOZERO_INV']\n",
    "\n",
    "# Basic threshold example\n",
    "def my_threshold(label, thresh, modeStr):\n",
    "    \n",
    "    mode = eval(modeStr)\n",
    "    \n",
    "    orig, label = images[label]\n",
    "\n",
    "    th, dst = cv2.threshold(label, thresh, 255, mode)\n",
    "    \n",
    "    fig, axes = plt.subplots(1, 2, figsize=(16, 12), sharex=True, sharey=True)\n",
    "    \n",
    "    ax = axes.ravel()\n",
    "    \n",
    "    \n",
    "    ax[0].imshow(label,'gray')\n",
    "    ax[1].imshow(dst,'gray')\n",
    "\n",
    "# Pass function & its parameters to interactive\n",
    "interactive(my_threshold, label=images.keys(), thresh = (0, 255), modeStr=modes)"
   ]
  },
  {
   "cell_type": "markdown",
   "metadata": {},
   "source": [
    "# Filtro "
   ]
  },
  {
   "cell_type": "code",
   "execution_count": null,
   "metadata": {},
   "outputs": [],
   "source": [
    "            "
   ]
  },
  {
   "cell_type": "code",
   "execution_count": null,
   "metadata": {},
   "outputs": [],
   "source": []
  },
  {
   "cell_type": "code",
   "execution_count": null,
   "metadata": {},
   "outputs": [],
   "source": []
  }
 ],
 "metadata": {
  "kernelspec": {
   "display_name": "Python 3",
   "language": "python",
   "name": "python3"
  },
  "language_info": {
   "codemirror_mode": {
    "name": "ipython",
    "version": 3
   },
   "file_extension": ".py",
   "mimetype": "text/x-python",
   "name": "python",
   "nbconvert_exporter": "python",
   "pygments_lexer": "ipython3",
   "version": "3.6.8"
  }
 },
 "nbformat": 4,
 "nbformat_minor": 2
}
